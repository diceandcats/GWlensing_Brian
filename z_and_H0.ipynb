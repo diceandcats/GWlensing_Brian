{
 "cells": [
  {
   "cell_type": "code",
   "execution_count": 3,
   "metadata": {},
   "outputs": [],
   "source": [
    "import os\n",
    "import numpy as np\n",
    "import matplotlib.pyplot as plt\n",
    "from astropy.io import fits\n",
    "from astropy.cosmology import default_cosmology\n",
    "from math import ceil, floor\n",
    "from scipy.optimize import minimize\n",
    "from tqdm import tqdm\n",
    "from lenstronomy.LensModel.lens_model import LensModel\n",
    "from lenstronomy.LensModel.Solver.lens_equation_solver import LensEquationSolver\n",
    "from cluster_local_new import ClusterLensing_fyp\n",
    "from astropy.cosmology import FlatLambdaCDM\n",
    "import pandas as pd\n",
    "import corner"
   ]
  },
  {
   "cell_type": "code",
   "execution_count": 4,
   "metadata": {},
   "outputs": [],
   "source": [
    "scenarios = {\n",
    "    '1': 'abell370',\n",
    "    '2': 'abell2744',\n",
    "    '3': 'abells1063',\n",
    "    '4': 'macs0416',\n",
    "    '5': 'macs0717',\n",
    "    '6': 'macs1149'\n",
    "}\n",
    "\n",
    "full_cluster_names = {\n",
    "    'abell370': 'Abell 370',\n",
    "    'abell2744': 'Abell 2744',\n",
    "    'abells1063': 'Abell S1063',\n",
    "    'macs0416': 'MACS J0416.1-2403',\n",
    "    'macs0717': 'MACS J0717.5+3745',\n",
    "    'macs1149': 'MACS J1149.5+2223'\n",
    "}\n",
    "\n",
    "# Initialize lists to store the data arrays\n",
    "datax_list = []\n",
    "datay_list = []\n",
    "data_psi_list = []\n",
    "\n",
    "for i in scenarios:\n",
    "    clustername = scenarios[i]\n",
    "    full_cluster_name = full_cluster_names[clustername]\n",
    "\n",
    "    file_dir = os.getcwd()\n",
    "    fits_filex = os.path.join(\n",
    "        file_dir,\n",
    "        f'GCdata/{full_cluster_name}/hlsp_frontier_model_{clustername}_williams_v4_x-arcsec-deflect.fits'\n",
    "    )\n",
    "    fits_filey = os.path.join(\n",
    "        file_dir,\n",
    "        f'GCdata/{full_cluster_name}/hlsp_frontier_model_{clustername}_williams_v4_y-arcsec-deflect.fits'\n",
    "    )\n",
    "    psi_file = os.path.join(\n",
    "        file_dir,\n",
    "        f'GCdata/{full_cluster_name}/hlsp_frontier_model_{clustername}_williams_v4_psi.fits'\n",
    "    )\n",
    "\n",
    "    with fits.open(fits_filex) as hdulx, fits.open(fits_filey) as hduly, fits.open(psi_file) as hdul_psi:\n",
    "        datax = hdulx[0].data\n",
    "        datay = hduly[0].data\n",
    "        data_psi = hdul_psi[0].data\n",
    "\n",
    "        # Append the data arrays to the lists\n",
    "        datax_list.append(datax)\n",
    "        datay_list.append(datay)\n",
    "        data_psi_list.append(data_psi)\n",
    "\n"
   ]
  },
  {
   "cell_type": "code",
   "execution_count": 5,
   "metadata": {},
   "outputs": [
    {
     "name": "stderr",
     "output_type": "stream",
     "text": [
      "/home/dices/.venv/lib/python3.12/site-packages/lenstronomy/LensModel/lens_model.py:96: UserWarning: Astropy Cosmology is provided. Make sure your cosmology model is consistent with the cosmology_model argument.\n",
      "  warnings.warn(\n"
     ]
    }
   ],
   "source": [
    "# getting the pixel scale list\n",
    "pixscale_list = [0.2, 0.25, 0.25, 0.2, 0.2, 0.2]\n",
    "z_l_list = [0.375, 0.308, 0.351, 0.397, 0.545, 0.543]\n",
    "search_window_list = [90.1, 95, 100, 85, 100, 90]\n",
    "x_center, y_center = [90, 75, 110, 70, 90, 70], [70, 80, 95, 60, 93, 65]\n",
    "cluster = ClusterLensing_fyp(datax_list, datay_list, data_psi_list, 0.5, 1, pixscale_list, diff_z=False)"
   ]
  },
  {
   "cell_type": "code",
   "execution_count": 6,
   "metadata": {},
   "outputs": [
    {
     "name": "stdout",
     "output_type": "stream",
     "text": [
      "D_S: 1588.921 Mpc\n",
      "D_LS: 1282.991 Mpc\n",
      "Candidate scale: 0.807\n",
      "[35.99429976 84.27536266 82.28667005 73.94518839 78.02650172] [90.11501046 59.67435186 83.09483137 66.51968297 76.18454922]\n",
      "[    0.         10518.1548355  11253.56506444 11261.12186978\n",
      " 11437.19019687]\n",
      "(array([35.99429976, 84.27536266, 82.28667005, 73.94518839, 78.02650172]), array([90.11501046, 59.67435186, 83.09483137, 66.51968297, 76.18454922]))\n",
      "[    0.         10518.1548355  11253.56506444 11261.12186978\n",
      " 11437.19019687]\n"
     ]
    }
   ],
   "source": [
    "# compare the cluster class to lenstronomy\n",
    "parameters = [67.5,81.0,3, 1] # x, y, z, index\n",
    "cluster_img_dt = cluster.image_and_delay_for_xyz(parameters[0], parameters[1], parameters[2], parameters[3])\n",
    "print(cluster_img_dt[0], cluster_img_dt[1])\n",
    "print(cluster_img_dt[2])\n",
    "\n",
    "# check with the lenstronomy package directly\n",
    "realsize = 678\n",
    "grid = np.linspace(0, realsize-1, realsize)\n",
    "grid = grid * pixscale_list[parameters[3]]\n",
    "\n",
    "cosmo = FlatLambdaCDM(H0=70, Om0=0.3)\n",
    "D_S_candidate = cosmo.angular_diameter_distance(parameters[2])\n",
    "D_LS_candidate = cosmo.angular_diameter_distance_z1z2(z_l_list[parameters[3]], parameters[2])\n",
    "candidate_scale = D_LS_candidate / D_S_candidate\n",
    "candidate_alpha_x = datax_list[parameters[3]] * candidate_scale\n",
    "candidate_alpha_y = datay_list[parameters[3]] * candidate_scale\n",
    "candidate_potential = data_psi_list[parameters[3]] * candidate_scale\n",
    "\n",
    "candidate_kwargs = {\n",
    "    'grid_interp_x': grid,\n",
    "    'grid_interp_y': grid,\n",
    "    'f_': candidate_potential * pixscale_list[parameters[3]]**2,\n",
    "    'f_x': candidate_alpha_x,\n",
    "    'f_y': candidate_alpha_y\n",
    "}\n",
    "\n",
    "lens_model_list2 = ['INTERPOL']\n",
    "kwargs_lens2 = [candidate_kwargs]\n",
    "lensModel_real = LensModel(lens_model_list=lens_model_list2, z_source=parameters[2], z_lens=z_l_list[parameters[3]], cosmo=cosmo)\n",
    "\n",
    "# Use lens equation solver for verification\n",
    "solver2 = LensEquationSolver(lensModel_real)\n",
    "lens_img_po = solver2.image_position_from_source(\n",
    "            parameters[0], parameters[1], kwargs_lens = kwargs_lens2,\n",
    "            min_distance=pixscale_list[parameters[3]],\n",
    "            search_window=search_window_list[int(parameters[3])],\n",
    "            verbose=False,\n",
    "            x_center=x_center[int(parameters[3])],\n",
    "            y_center=y_center[int(parameters[3])]\n",
    "        )\n",
    "print(lens_img_po)\n",
    "t_lenstronomy = lensModel_real.arrival_time(lens_img_po[0], lens_img_po[1], kwargs_lens2)\n",
    "dt_lenstronomy = t_lenstronomy - t_lenstronomy.min()\n",
    "print(dt_lenstronomy)"
   ]
  },
  {
   "cell_type": "code",
   "execution_count": 7,
   "metadata": {},
   "outputs": [
    {
     "name": "stdout",
     "output_type": "stream",
     "text": [
      "[35.99429976 84.27536266 82.28667005 73.94518839 78.02650172] [90.11501046 59.67435186 83.09483137 66.51968297 76.18454922]\n",
      "[    0.         10518.1548355  11253.56506444 11261.12186978\n",
      " 11437.19019687]\n",
      "25422.741745189862\n"
     ]
    }
   ],
   "source": [
    "parameters = [67.5,81.0,3,70, 1] # x, y, z, H0, index\n",
    "cluster_img_dt = cluster.image_and_delay_for_xyzH(parameters[0], parameters[1], parameters[2], parameters[3],parameters[4])\n",
    "print(cluster_img_dt[0], cluster_img_dt[1])\n",
    "print(cluster_img_dt[2])\n",
    "cosmos_true = FlatLambdaCDM(H0=parameters[3], Om0=0.3)\n",
    "lum_dist_true = cosmos_true.luminosity_distance(parameters[2]).value\n",
    "print(lum_dist_true)"
   ]
  },
  {
   "cell_type": "code",
   "execution_count": 8,
   "metadata": {},
   "outputs": [
    {
     "name": "stdout",
     "output_type": "stream",
     "text": [
      "true: [    0.         10518.1548355  11253.56506444 11261.12186978\n",
      " 11437.19019687]\n",
      "guess: [    0.         11131.73382475 11747.41664614 11848.96708122\n",
      " 11978.36810496]\n",
      "4.117086471244678\n"
     ]
    }
   ],
   "source": [
    "# luminosity distance\n",
    "#print(cluster.luminosity_distance(parameters[2], parameters[3]))\n",
    "guess = [67.2, 81.0, 3, 70]\n",
    "dt_test = cluster_img_dt[2]\n",
    "print(f'true: {dt_test}')\n",
    "print(f'guess: {cluster.image_and_delay_for_xyzH(guess[0], guess[1], guess[2], guess[3], parameters[4])[2]}')\n",
    "chi_sq_test = cluster.chi_squared_with_z_Hubble(guess, dt_test, index=1, lum_dist_true=lum_dist_true)\n",
    "print(chi_sq_test)"
   ]
  },
  {
   "cell_type": "code",
   "execution_count": 9,
   "metadata": {},
   "outputs": [
    {
     "name": "stdout",
     "output_type": "stream",
     "text": [
      "[    0.         10518.1548355  11253.56506444 11261.12186978\n",
      " 11437.19019687]\n",
      "differential_evolution step 1: f(x)= 283.43917423240816\n",
      "differential_evolution step 2: f(x)= 283.43917423240816\n",
      "differential_evolution step 3: f(x)= 66.74730918557769\n",
      "differential_evolution step 4: f(x)= 66.74730918557769\n",
      "differential_evolution step 5: f(x)= 46.35513331302553\n",
      "differential_evolution step 6: f(x)= 46.35513331302553\n",
      "differential_evolution step 7: f(x)= 46.35513331302553\n",
      "differential_evolution step 8: f(x)= 33.28033581212634\n",
      "differential_evolution step 9: f(x)= 33.28033581212634\n",
      "differential_evolution step 10: f(x)= 33.28033581212634\n",
      "differential_evolution step 11: f(x)= 33.28033581212634\n",
      "differential_evolution step 12: f(x)= 4.1463820515355385\n",
      "differential_evolution step 13: f(x)= 4.1463820515355385\n",
      "differential_evolution step 14: f(x)= 4.1463820515355385\n",
      "differential_evolution step 15: f(x)= 4.1463820515355385\n",
      "differential_evolution step 16: f(x)= 0.2895799223752706\n",
      "differential_evolution step 17: f(x)= 0.2895799223752706\n",
      "differential_evolution step 18: f(x)= 0.2895799223752706\n",
      "differential_evolution step 19: f(x)= 0.2895799223752706\n",
      "differential_evolution step 20: f(x)= 0.2805436699755316\n",
      "differential_evolution step 21: f(x)= 0.2805436699755316\n",
      "differential_evolution step 22: f(x)= 0.2805436699755316\n",
      "differential_evolution step 23: f(x)= 0.2805436699755316\n",
      "differential_evolution step 24: f(x)= 0.2805436699755316\n",
      "differential_evolution step 25: f(x)= 0.2805436699755316\n",
      "differential_evolution step 26: f(x)= 0.2805436699755316\n",
      "differential_evolution step 27: f(x)= 0.2805436699755316\n",
      "differential_evolution step 28: f(x)= 0.2805436699755316\n",
      "differential_evolution step 29: f(x)= 0.2805436699755316\n",
      "differential_evolution step 30: f(x)= 0.2805436699755316\n",
      "differential_evolution step 31: f(x)= 0.2805436699755316\n",
      "differential_evolution step 32: f(x)= 0.2805436699755316\n",
      "differential_evolution step 33: f(x)= 0.2805436699755316\n",
      "differential_evolution step 34: f(x)= 0.2805436699755316\n",
      "differential_evolution step 35: f(x)= 0.2805436699755316\n",
      "differential_evolution step 36: f(x)= 0.2805436699755316\n",
      "differential_evolution step 37: f(x)= 0.2805436699755316\n",
      "differential_evolution step 38: f(x)= 0.2805436699755316\n",
      "differential_evolution step 39: f(x)= 0.2805436699755316\n",
      "differential_evolution step 40: f(x)= 0.2805436699755316\n",
      "differential_evolution step 41: f(x)= 0.2805436699755316\n",
      "differential_evolution step 42: f(x)= 0.2805436699755316\n",
      "differential_evolution step 43: f(x)= 0.2805436699755316\n",
      "differential_evolution step 44: f(x)= 0.2805436699755316\n",
      "differential_evolution step 45: f(x)= 0.2805436699755316\n",
      "differential_evolution step 46: f(x)= 0.2805436699755316\n",
      "differential_evolution step 47: f(x)= 0.0425166999950157\n",
      "differential_evolution step 48: f(x)= 0.0425166999950157\n",
      "differential_evolution step 49: f(x)= 0.0425166999950157\n",
      "differential_evolution step 50: f(x)= 0.0425166999950157\n",
      "differential_evolution step 51: f(x)= 0.0425166999950157\n",
      "differential_evolution step 52: f(x)= 0.0425166999950157\n",
      "differential_evolution step 53: f(x)= 0.0425166999950157\n",
      "differential_evolution step 54: f(x)= 0.0425166999950157\n",
      "differential_evolution step 55: f(x)= 0.0425166999950157\n",
      "differential_evolution step 56: f(x)= 0.0425166999950157\n",
      "differential_evolution step 57: f(x)= 0.0425166999950157\n",
      "differential_evolution step 58: f(x)= 0.020512947265114267\n",
      "differential_evolution step 59: f(x)= 0.020512947265114267\n",
      "differential_evolution step 60: f(x)= 0.020512947265114267\n",
      "differential_evolution step 61: f(x)= 0.020512947265114267\n",
      "differential_evolution step 62: f(x)= 0.020512947265114267\n",
      "differential_evolution step 63: f(x)= 0.020512947265114267\n",
      "differential_evolution step 64: f(x)= 0.020512947265114267\n",
      "differential_evolution step 65: f(x)= 0.020512947265114267\n",
      "differential_evolution step 66: f(x)= 0.020512947265114267\n",
      "differential_evolution step 67: f(x)= 0.020512947265114267\n",
      "differential_evolution step 68: f(x)= 0.020512947265114267\n",
      "differential_evolution step 69: f(x)= 0.020512947265114267\n",
      "differential_evolution step 70: f(x)= 0.020512947265114267\n",
      "differential_evolution step 71: f(x)= 0.020512947265114267\n",
      "differential_evolution step 72: f(x)= 0.020512947265114267\n",
      "differential_evolution step 73: f(x)= 0.020512947265114267\n",
      "differential_evolution step 74: f(x)= 0.020512947265114267\n",
      "differential_evolution step 75: f(x)= 0.020512947265114267\n",
      "differential_evolution step 76: f(x)= 0.020512947265114267\n",
      "differential_evolution step 77: f(x)= 0.020512947265114267\n",
      "differential_evolution step 78: f(x)= 0.020512947265114267\n",
      "differential_evolution step 79: f(x)= 0.020512947265114267\n",
      "differential_evolution step 80: f(x)= 0.020512947265114267\n",
      "differential_evolution step 81: f(x)= 0.020512947265114267\n",
      "differential_evolution step 82: f(x)= 0.020512947265114267\n",
      "differential_evolution step 83: f(x)= 0.020512947265114267\n",
      "differential_evolution step 84: f(x)= 0.020512947265114267\n",
      "differential_evolution step 85: f(x)= 0.020512947265114267\n",
      "differential_evolution step 86: f(x)= 0.020512947265114267\n",
      "differential_evolution step 87: f(x)= 0.020512947265114267\n",
      "differential_evolution step 88: f(x)= 0.020512947265114267\n",
      "differential_evolution step 89: f(x)= 0.020512947265114267\n",
      "differential_evolution step 90: f(x)= 0.020512947265114267\n",
      "differential_evolution step 91: f(x)= 0.020512947265114267\n",
      "differential_evolution step 92: f(x)= 0.012888549549591588\n",
      "differential_evolution step 93: f(x)= 0.012888549549591588\n",
      "differential_evolution step 94: f(x)= 0.012888549549591588\n",
      "differential_evolution step 95: f(x)= 0.010331465006934128\n",
      "differential_evolution step 96: f(x)= 0.010331465006934128\n",
      "differential_evolution step 97: f(x)= 0.010331465006934128\n",
      "differential_evolution step 98: f(x)= 0.010331465006934128\n",
      "differential_evolution step 99: f(x)= 0.010331465006934128\n",
      "differential_evolution step 100: f(x)= 0.010331465006934128\n",
      "differential_evolution step 101: f(x)= 0.010331465006934128\n",
      "differential_evolution step 102: f(x)= 0.009578912662273703\n"
     ]
    }
   ],
   "source": [
    "# sampling with z and H0\n",
    "dt_test = cluster_img_dt[2]\n",
    "print(dt_test)\n",
    "DE_result = cluster.localize_known_cluster_diffevo_with_z_Hubble(dt_test, index = parameters[4], lum_dist_true= lum_dist_true)"
   ]
  },
  {
   "cell_type": "code",
   "execution_count": 11,
   "metadata": {},
   "outputs": [
    {
     "name": "stdout",
     "output_type": "stream",
     "text": [
      "best fit: (np.float64(67.51467880494673), np.float64(81.06986794093814), np.float64(3.0120435909300705), np.float64(70.23534769565313), np.float64(0.009578912662273703))\n"
     ]
    }
   ],
   "source": [
    "print(f'best fit: {DE_result}')"
   ]
  }
 ],
 "metadata": {
  "kernelspec": {
   "display_name": ".venv",
   "language": "python",
   "name": "python3"
  },
  "language_info": {
   "codemirror_mode": {
    "name": "ipython",
    "version": 3
   },
   "file_extension": ".py",
   "mimetype": "text/x-python",
   "name": "python",
   "nbconvert_exporter": "python",
   "pygments_lexer": "ipython3",
   "version": "3.12.3"
  }
 },
 "nbformat": 4,
 "nbformat_minor": 2
}
