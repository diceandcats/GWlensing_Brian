{
 "cells": [
  {
   "cell_type": "code",
   "execution_count": 2,
   "id": "e28b3923",
   "metadata": {},
   "outputs": [],
   "source": [
    "import numpy as np\n",
    "from lensing_data_class import LensingData\n",
    "from cluster_local_tidy import ClusterLensing\n",
    "import os\n",
    "import matplotlib.pyplot as plt\n",
    "from astropy.io import fits\n",
    "from astropy.cosmology import FlatLambdaCDM\n",
    "from cluster_local_new import ClusterLensing_fyp\n",
    "import pandas as pd\n",
    "import corner\n",
    "import arviz as az\n",
    "import pathlib"
   ]
  },
  {
   "cell_type": "code",
   "execution_count": 4,
   "id": "4adf3d88",
   "metadata": {},
   "outputs": [
    {
     "name": "stdout",
     "output_type": "stream",
     "text": [
      "Setup complete. Lensing system initialized.\n"
     ]
    },
    {
     "name": "stderr",
     "output_type": "stream",
     "text": [
      "/home/dices/.venv/lib/python3.12/site-packages/lenstronomy/LensModel/lens_model.py:96: UserWarning: Astropy Cosmology is provided. Make sure your cosmology model is consistent with the cosmology_model argument.\n",
      "  warnings.warn(\n"
     ]
    }
   ],
   "source": [
    "\n",
    "\n",
    "# --- 1. Create Dummy Lensing Data ---\n",
    "# In a real scenario, you would load your FITS files or other data here.\n",
    "# We'll create placeholder data for 2 clusters.\n",
    "# The maps are small for this example (e.g., 200x200 pixels).\n",
    "\n",
    "scenarios = {\n",
    "        '1': 'abell370',\n",
    "        '2': 'abell2744',\n",
    "        '3': 'abells1063',\n",
    "        '4': 'macs0416',\n",
    "        '5': 'macs0717',\n",
    "        '6': 'macs1149'\n",
    "    }\n",
    "\n",
    "full_cluster_names = {\n",
    "        'abell370': 'Abell 370',\n",
    "        'abell2744': 'Abell 2744',\n",
    "        'abells1063': 'Abell S1063',\n",
    "        'macs0416': 'MACS J0416.1-2403',\n",
    "        'macs0717': 'MACS J0717.5+3745',\n",
    "        'macs1149': 'MACS J1149.5+2223'\n",
    "    }\n",
    "\n",
    "# Initialize lists to store the data arrays\n",
    "datax_list = []\n",
    "datay_list = []\n",
    "data_psi_list = []\n",
    "\n",
    "for i in scenarios:\n",
    "    clustername = scenarios[i]\n",
    "    full_cluster_name = full_cluster_names[clustername]\n",
    "\n",
    "    file_dir = os.getcwd()\n",
    "    fits_filex = os.path.join(\n",
    "        file_dir,\n",
    "        f'GCdata/{full_cluster_name}/hlsp_frontier_model_{clustername}_williams_v4_x-arcsec-deflect.fits'\n",
    "    )\n",
    "    fits_filey = os.path.join(\n",
    "        file_dir,\n",
    "        f'GCdata/{full_cluster_name}/hlsp_frontier_model_{clustername}_williams_v4_y-arcsec-deflect.fits'\n",
    "    )\n",
    "    psi_file = os.path.join(\n",
    "        file_dir,\n",
    "        f'GCdata/{full_cluster_name}/hlsp_frontier_model_{clustername}_williams_v4_psi.fits'\n",
    "    )\n",
    "\n",
    "    with fits.open(fits_filex) as hdulx, fits.open(fits_filey) as hduly, fits.open(psi_file) as hdul_psi:\n",
    "        datax = hdulx[0].data\n",
    "        datay = hduly[0].data\n",
    "        data_psi = hdul_psi[0].data\n",
    "\n",
    "        # Append the data arrays to the lists\n",
    "        datax_list.append(datax)\n",
    "        datay_list.append(datay)\n",
    "        data_psi_list.append(data_psi)\n",
    "\n",
    "# getting the pixel scale list\n",
    "pixscale_list = [0.2, 0.25, 0.25, 0.2, 0.2, 0.2]\n",
    "lensing_data = LensingData(\n",
    "    alpha_maps_x=datax_list,\n",
    "    alpha_maps_y=datay_list,\n",
    "    lens_potential_maps=data_psi_list,\n",
    "    pixscale = [0.2, 0.25, 0.25, 0.2, 0.2, 0.2],\n",
    "    z_l_list = [0.375, 0.308, 0.351, 0.397, 0.545, 0.543], # Lens redshifts for the two clusters\n",
    "    # We can use the default x_center, y_center, and search_window_list\n",
    "    # or override them if needed.\n",
    ")\n",
    "\n",
    "# --- 2. Define the \"True\" Observed Data ---\n",
    "# This is the data you are trying to fit. For a strongly lensed supernova,\n",
    "# this would be the measured time delays between the images.\n",
    "# Let's assume a 4-image system.\n",
    "dt_true = np.array([0., 20., 55., 80.]) # First image is reference (delay=0)\n",
    "\n",
    "# --- 3. Initialize the Main Analysis Class ---\n",
    "# z_s_ref is a reference source redshift used for initial scaling calculations.\n",
    "# It can be an estimate of the source's redshift.\n",
    "z_s_ref = 1.5 \n",
    "cluster_system = ClusterLensing(data=lensing_data, z_s_ref=z_s_ref)\n",
    "\n",
    "print(\"Setup complete. Lensing system initialized.\")"
   ]
  }
 ],
 "metadata": {
  "kernelspec": {
   "display_name": ".venv",
   "language": "python",
   "name": "python3"
  },
  "language_info": {
   "codemirror_mode": {
    "name": "ipython",
    "version": 3
   },
   "file_extension": ".py",
   "mimetype": "text/x-python",
   "name": "python",
   "nbconvert_exporter": "python",
   "pygments_lexer": "ipython3",
   "version": "3.12.3"
  }
 },
 "nbformat": 4,
 "nbformat_minor": 5
}
