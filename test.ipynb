{
 "cells": [
  {
   "cell_type": "code",
   "execution_count": 4,
   "id": "d275cdec",
   "metadata": {},
   "outputs": [],
   "source": [
    "# pylint: skip-file\n",
    "import os\n",
    "import numpy as np\n",
    "import matplotlib.pyplot as plt\n",
    "from astropy.io import fits\n",
    "from astropy.cosmology import FlatLambdaCDM\n",
    "from lensing_data_class import LensingData\n",
    "from cluster_local_tidy import ClusterLensing\n",
    "from scipy.interpolate import interpn\n"
   ]
  },
  {
   "cell_type": "code",
   "execution_count": 19,
   "id": "b190085c",
   "metadata": {},
   "outputs": [],
   "source": [
    "points = (np.arange(3), np.arange(3))\n",
    "values = np.array([[0, 1, 2], [3, 4, 5], [6, 7, 8]])\n",
    "xi = np.array([[0, 1.9], [1.5, 1.5]])"
   ]
  },
  {
   "cell_type": "code",
   "execution_count": 20,
   "id": "5f601a20",
   "metadata": {},
   "outputs": [
    {
     "name": "stdout",
     "output_type": "stream",
     "text": [
      "[1.9 6. ]\n"
     ]
    }
   ],
   "source": [
    "sigma_dt_values = interpn(\n",
    "            points, \n",
    "            values, \n",
    "            xi,\n",
    "            method='linear', \n",
    "            bounds_error=True\n",
    "        )\n",
    "print(sigma_dt_values)"
   ]
  }
 ],
 "metadata": {
  "kernelspec": {
   "display_name": ".venv",
   "language": "python",
   "name": "python3"
  },
  "language_info": {
   "codemirror_mode": {
    "name": "ipython",
    "version": 3
   },
   "file_extension": ".py",
   "mimetype": "text/x-python",
   "name": "python",
   "nbconvert_exporter": "python",
   "pygments_lexer": "ipython3",
   "version": "3.12.3"
  }
 },
 "nbformat": 4,
 "nbformat_minor": 5
}
