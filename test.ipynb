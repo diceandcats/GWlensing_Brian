{
 "cells": [
  {
   "cell_type": "code",
   "execution_count": 6,
   "metadata": {},
   "outputs": [],
   "source": [
    "from astropy.cosmology import FlatLambdaCDM\n",
    "from math import ceil, floor\n",
    "import numpy as np\n",
    "#import matplotlib.pyplot as plt\n",
    "from sklearn.cluster import DBSCAN\n",
    "import scipy.optimize._minimize as minimize\n",
    "from astropy.cosmology import FlatLambdaCDM\n",
    "import lenstronomy.Util.constants as const\n",
    "import pandas as pd\n"
   ]
  },
  {
   "cell_type": "code",
   "execution_count": 7,
   "metadata": {},
   "outputs": [
    {
     "name": "stdout",
     "output_type": "stream",
     "text": [
      "1651.9144029437352 Mpc 1651.9144029437352 Mpc 707.6017049770254 Mpc\n"
     ]
    }
   ],
   "source": [
    "z_S = 1.0\n",
    "z_L = 0.5\n",
    "\n",
    "cosmo = FlatLambdaCDM(H0=70, Om0=0.3)\n",
    "D_S1 = cosmo.angular_diameter_distance(1.0)\n",
    "D_S2 = cosmo.angular_diameter_distance_z1z2(0, z_S)\n",
    "D_LS1 = cosmo.angular_diameter_distance_z1z2(z_L, 1.0)\n",
    "D_LS2 = cosmo.angular_diameter_distance_z1z2(z_L, z_S)\n",
    "\n",
    "print(D_S1, D_S2, D_LS2)"
   ]
  }
 ],
 "metadata": {
  "kernelspec": {
   "display_name": "Python 3",
   "language": "python",
   "name": "python3"
  },
  "language_info": {
   "codemirror_mode": {
    "name": "ipython",
    "version": 3
   },
   "file_extension": ".py",
   "mimetype": "text/x-python",
   "name": "python",
   "nbconvert_exporter": "python",
   "pygments_lexer": "ipython3",
   "version": "3.10.12"
  }
 },
 "nbformat": 4,
 "nbformat_minor": 2
}
