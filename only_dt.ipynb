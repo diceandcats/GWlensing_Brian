{
 "cells": [
  {
   "cell_type": "code",
   "execution_count": 2,
   "metadata": {},
   "outputs": [],
   "source": [
    "import numpy as np\n",
    "import os\n",
    "import matplotlib.pyplot as plt\n",
    "from astropy.io import fits\n",
    "from math import ceil, floor\n",
    "from scipy.optimize import minimize\n",
    "from tqdm import tqdm\n",
    "from lenstronomy.LensModel.lens_model import LensModel\n",
    "from lenstronomy.LensModel.Solver.lens_equation_solver import LensEquationSolver\n",
    "from cluster_local import ClusterLensing_fyp\n",
    "from astropy.cosmology import FlatLambdaCDM\n",
    "import pandas as pd"
   ]
  },
  {
   "cell_type": "code",
   "execution_count": 2,
   "metadata": {},
   "outputs": [
    {
     "name": "stdout",
     "output_type": "stream",
     "text": [
      "Length of the first datax array: 698\n"
     ]
    }
   ],
   "source": [
    "# inject data\n",
    "\n",
    "scenarios = {\n",
    "    '1': 'abell370',\n",
    "    '2': 'abell2744',\n",
    "    '3': 'abells1063',\n",
    "    '4': 'macs0416',\n",
    "    '5': 'macs0717',\n",
    "    '6': 'macs1149'\n",
    "}\n",
    "\n",
    "full_cluster_names = {\n",
    "    'abell370': 'Abell 370',\n",
    "    'abell2744': 'Abell 2744',\n",
    "    'abells1063': 'Abell S1063',\n",
    "    'macs0416': 'MACS J0416.1-2403',\n",
    "    'macs0717': 'MACS J0717.5+3745',\n",
    "    'macs1149': 'MACS J1149.5+2223'\n",
    "}\n",
    "\n",
    "# Initialize lists to store the data arrays\n",
    "datax_list = []\n",
    "datay_list = []\n",
    "data_psi_list = []\n",
    "\n",
    "for i in scenarios:\n",
    "    clustername = scenarios[i]\n",
    "    full_cluster_name = full_cluster_names[clustername]\n",
    "\n",
    "    file_dir = os.getcwd()\n",
    "    fits_filex = os.path.join(\n",
    "        file_dir,\n",
    "        f'GCdata/{full_cluster_name}/hlsp_frontier_model_{clustername}_williams_v4_x-arcsec-deflect.fits'\n",
    "    )\n",
    "    fits_filey = os.path.join(\n",
    "        file_dir,\n",
    "        f'GCdata/{full_cluster_name}/hlsp_frontier_model_{clustername}_williams_v4_y-arcsec-deflect.fits'\n",
    "    )\n",
    "    psi_file = os.path.join(\n",
    "        file_dir,\n",
    "        f'GCdata/{full_cluster_name}/hlsp_frontier_model_{clustername}_williams_v4_psi.fits'\n",
    "    )\n",
    "\n",
    "    with fits.open(fits_filex) as hdulx, fits.open(fits_filey) as hduly, fits.open(psi_file) as hdul_psi:\n",
    "        datax = hdulx[0].data\n",
    "        datay = hduly[0].data\n",
    "        data_psi = hdul_psi[0].data\n",
    "\n",
    "        # Append the data arrays to the lists\n",
    "        datax_list.append(datax)\n",
    "        datay_list.append(datay)\n",
    "        data_psi_list.append(data_psi)\n",
    "\n",
    "# Example: Access the first datax array\n",
    "print(f\"Length of the first datax array: {len(datax_list[5])}\")\n"
   ]
  },
  {
   "cell_type": "code",
   "execution_count": 3,
   "metadata": {},
   "outputs": [
    {
     "name": "stdout",
     "output_type": "stream",
     "text": [
      "[0.2, 0.25, 0.25, 0.2, 0.2, 0.2]\n"
     ]
    }
   ],
   "source": [
    "# getting the pixel scale list\n",
    "def get_pixscale(cluster_name, file_path='GCdata/pixsize'):\n",
    "    full_path = os.path.join(file_dir, file_path)\n",
    "    with open(full_path, 'r', encoding='utf-8') as file:\n",
    "        for line in file:\n",
    "            if line.startswith(cluster_name):\n",
    "                # Split the line to get the value after the colon and return it as a float\n",
    "                return float(line.split(':')[1].strip())\n",
    "    return None  # Return None if the cluster name isn't found\n",
    "\n",
    "pixscale_list = []\n",
    "for i in scenarios:\n",
    "    clustername = scenarios[i]\n",
    "    full_cluster_name = full_cluster_names[clustername]\n",
    "    pixscale = get_pixscale(full_cluster_name)\n",
    "    pixscale_list.append(pixscale)\n",
    "print(pixscale_list)\n"
   ]
  },
  {
   "cell_type": "code",
   "execution_count": 4,
   "metadata": {},
   "outputs": [],
   "source": [
    "# set up the class\n",
    "cluster = ClusterLensing_fyp(datax_list, datay_list, data_psi_list, 0.5, 1, pixscale_list, diff_z=False)\n"
   ]
  },
  {
   "cell_type": "code",
   "execution_count": 5,
   "metadata": {},
   "outputs": [
    {
     "name": "stdout",
     "output_type": "stream",
     "text": [
      "749\n"
     ]
    }
   ],
   "source": [
    "print(len(datax_list[0]))"
   ]
  },
  {
   "cell_type": "code",
   "execution_count": 6,
   "metadata": {},
   "outputs": [
    {
     "name": "stdout",
     "output_type": "stream",
     "text": [
      "(array([130.90570749, 119.37227644, 123.09639191, 108.9624652 ,\n",
      "       107.36913457, 111.70002398]), array([70.65962589, 53.17209047, 98.35351745, 79.99845342, 71.00786791,\n",
      "       89.99207943]))\n",
      "(array([130.90570749, 119.37227644, 123.09639191, 108.9624652 ,\n",
      "       107.36913457, 111.70002398]), array([70.65962589, 53.17209047, 98.35351745, 79.99845342, 71.00786791,\n",
      "       89.99207943]))\n"
     ]
    }
   ],
   "source": [
    "# check with the lenstronomy package directly\n",
    "realsize = 749\n",
    "grid = np.linspace(0, realsize-1, realsize)\n",
    "grid = grid * 0.2\n",
    "\n",
    "lens_model_list2 = ['INTERPOL']\n",
    "kwargs_lens2 = [{'grid_interp_x': grid, 'grid_interp_y': grid, 'f_': data_psi_list[0]*0.2**2,\n",
    "                          'f_x': datax_list[0], 'f_y': datay_list[0]}]\n",
    "lensModel_real = LensModel(lens_model_list=lens_model_list2, z_source=1, z_lens=0.5)\n",
    "\n",
    "# Use lens equation solver for verification\n",
    "solver2 = LensEquationSolver(lensModel_real)\n",
    "coord = (67.22561783145142,72.83653950135216)\n",
    "img_po = solver2.image_position_from_source(coord[0], coord[1], kwargs_lens2, min_distance=0.2, search_window=100, verbose=False, x_center=90, y_center=70)\n",
    "print(img_po)\n",
    "img_mycode = cluster.image_position(coord[0], coord[1], 0)\n",
    "print(img_mycode)\n"
   ]
  },
  {
   "cell_type": "code",
   "execution_count": 7,
   "metadata": {},
   "outputs": [],
   "source": [
    "# dt and mag data\n",
    "\n",
    "mag = (1.49972905, 7.42332916, -11.5028191, -4.07344553, -3.28229147, 3.14782126, 3.57746724)\n",
    "dt =[0.0, 3464.586642261129, 24012.56500505423, 25331.258614414837, 25887.914411486126]\n",
    "dt_ref = [0.0, 88594.90558064939, 91797.85200701188, 91896.81383935199, 92121.65322824288, 92551.52745506703, 93534.55033071572]"
   ]
  },
  {
   "cell_type": "code",
   "execution_count": 8,
   "metadata": {},
   "outputs": [
    {
     "name": "stdout",
     "output_type": "stream",
     "text": [
      "0.0\n"
     ]
    }
   ],
   "source": [
    "src_guess = (81,71.3)\n",
    "chi_sq = cluster.chi_squared(src_guess, dt, index = 0)\n",
    "print(chi_sq)"
   ]
  },
  {
   "cell_type": "code",
   "execution_count": null,
   "metadata": {},
   "outputs": [],
   "source": [
    "# localization of source position given the index of cluster\n",
    "x_approx, y_approx, chi_sq = cluster.localize_known_cluster_diffevo(dt_true = dt, index = 1)\n",
    "print(x_approx, y_approx, chi_sq)\n",
    "print((x_approx-src_guess[0])**2 + (y_approx-src_guess[1])**2)\n"
   ]
  },
  {
   "cell_type": "code",
   "execution_count": null,
   "metadata": {},
   "outputs": [
    {
     "name": "stdout",
     "output_type": "stream",
     "text": [
      "0 [81.00000038017119, 71.29999998618307] 2.1059426626038668e-05\n"
     ]
    }
   ],
   "source": [
    "\n",
    "# localization of source position with unknown cluster\n",
    "index, src_pos, chi_sq , src_guess, chi_sqs= cluster.localize_diffevo(dt_true = dt)\n",
    "print(index, src_pos, chi_sq)"
   ]
  },
  {
   "cell_type": "code",
   "execution_count": 9,
   "metadata": {},
   "outputs": [
    {
     "name": "stdout",
     "output_type": "stream",
     "text": [
      "Finding source 48\n",
      "Finding source 49\n",
      "Finding source 50\n",
      "Finding source 51\n",
      "Finding source 52\n",
      "Finding source 53\n",
      "Finding source 54\n",
      "Finding source 55\n",
      "Finding source 56\n",
      "Finding source 57\n",
      "Finding source 58\n",
      "Finding source 59\n"
     ]
    }
   ],
   "source": [
    "# localization of source position with unknown cluster for multiple sources\n",
    "src = pd.read_csv('src_pos_for_distribution_2nd.csv')\n",
    "src_pos_test,index_test = src[['x', 'y']].values, src['indices'].values\n",
    "\n",
    "for i in range(48, 60):\n",
    "    img = cluster.image_position(src_pos_test[i][0], src_pos_test[i][1], index_test[i])\n",
    "    dt = cluster.time_delay(img[0], img[1], index_test[i])\n",
    "    print(f'Finding source {i}')\n",
    "    index, src_pos, chi_sq , _, _ = cluster.localize_diffevo(dt_true=dt)\n",
    "    src.at[i, 'localized_index'] = index\n",
    "    src.at[i, 'localized_x'] = src_pos[0]\n",
    "    src.at[i, 'localized_y'] = src_pos[1]\n",
    "    src.at[i, 'localized_chi_sq'] = chi_sq\n",
    "    src.to_csv('src_pos_for_distribution_2nd.csv', index=False)\n",
    "\n"
   ]
  },
  {
   "cell_type": "code",
   "execution_count": 11,
   "metadata": {},
   "outputs": [
    {
     "name": "stdout",
     "output_type": "stream",
     "text": [
      "4\n",
      "66.38415789570078 72.72044649674007 4\n",
      "(array([129.55701136, 123.51389146, 122.65325983, 109.68022657,\n",
      "       108.54981428, 113.14524196]), array([69.98295887, 57.61013677, 96.77264003, 78.66950378, 71.36303424,\n",
      "       90.3524465 ]))\n",
      "66.38415791614607 72.72044646405331 0.0\n",
      "(array([129.55701139, 123.51389159, 122.65325977, 109.68022651,\n",
      "       108.54981425, 113.14524193]), array([69.98295866, 57.61013683, 96.77264015, 78.66950371, 71.36303438,\n",
      "       90.35244656]))\n",
      "9.673587503082613e-06\n"
     ]
    }
   ],
   "source": [
    "# Checking the chi squared values for the sources\n",
    "src_check = pd.read_csv('src_pos_for_distribution.csv')\n",
    "line_check = 47\n",
    "index_check = src_check.at[line_check, 'indices']\n",
    "print(index_check)\n",
    "x,y = src_check.at[line_check, 'x'], src_check.at[line_check, 'y']\n",
    "print(x,y, index_check)\n",
    "img = cluster.image_position(x, y, index_check)\n",
    "print(img)\n",
    "dt_check = cluster.time_delay(img[0], img[1], index_check)\n",
    "x_guess, y_guess = src_check.at[line_check, 'localized_x'], src_check.at[line_check, 'localized_y']\n",
    "index_guess = src_check.at[line_check, 'localized_index']\n",
    "img_guess = cluster.image_position(x_guess, y_guess, 4)\n",
    "print(x_guess, y_guess, index_guess)\n",
    "print(img_guess)\n",
    "diff = cluster.chi_squared([x_guess,y_guess], dt_check, 5)\n",
    "print(diff)\n"
   ]
  },
  {
   "cell_type": "code",
   "execution_count": 7,
   "metadata": {},
   "outputs": [
    {
     "name": "stdout",
     "output_type": "stream",
     "text": [
      "0     3.993612e-07\n",
      "1     2.330763e-07\n",
      "2     3.560470e-08\n",
      "3     1.089944e-07\n",
      "4     9.003790e-08\n",
      "5     1.342419e-07\n",
      "6     3.230082e-08\n",
      "7     1.378013e-06\n",
      "8     5.404881e-08\n",
      "9     2.174466e-08\n",
      "10    4.859379e-08\n",
      "11    6.420375e-08\n",
      "12    2.836368e+01\n",
      "13    3.590169e-08\n",
      "14    3.860651e-07\n",
      "15    4.411562e-08\n",
      "16    3.384625e-07\n",
      "17    9.616610e-08\n",
      "18    1.503528e-07\n",
      "19    1.849361e-07\n",
      "20    7.948299e-08\n",
      "21    3.643106e-08\n",
      "22    9.545225e-08\n",
      "23    1.541214e-08\n",
      "24    4.518463e-08\n",
      "25    4.426587e-08\n",
      "26    3.792242e-08\n",
      "27    4.376833e-08\n",
      "28    7.104430e-08\n",
      "29    6.478393e-08\n",
      "30    4.073443e-07\n",
      "31    2.664296e-07\n",
      "32    4.153437e-07\n",
      "33    2.561492e-07\n",
      "34    3.848598e-07\n",
      "35    1.686387e-07\n",
      "36    8.445183e-08\n",
      "37    5.282015e-08\n",
      "38    2.404607e-08\n",
      "39    9.314009e-08\n",
      "40    1.117137e-08\n",
      "41    8.278859e-08\n",
      "42    9.537627e-08\n",
      "43    2.342475e-08\n",
      "44    9.086360e-07\n",
      "45    8.547087e-08\n",
      "46    3.466648e-07\n",
      "47    5.196260e-07\n",
      "48    2.254496e-07\n",
      "49    5.549219e-07\n",
      "50    1.443201e-07\n",
      "51    2.641722e-08\n",
      "52    1.318413e-07\n",
      "53    3.950337e-07\n",
      "54    2.553077e-08\n",
      "55    4.948630e-08\n",
      "56    1.274755e-07\n",
      "57    1.844538e-08\n",
      "58    6.733769e-08\n",
      "59    2.642069e-08\n",
      "Name: diff, dtype: float64\n"
     ]
    }
   ],
   "source": [
    "# calculating the differnce in (x,y) and (localized_x,localized_y) for the sources in csv file\n",
    "src_check = pd.read_csv('src_pos_for_distribution_2nd.csv')\n",
    "diff = []\n",
    "true_x, true_y = src_check['x'].values, src_check['y'].values\n",
    "localized_x, localized_y = src_check['localized_x'].values, src_check['localized_y'].values\n",
    "src_check['diff'] = np.sqrt((true_x-localized_x)**2 + (true_y-localized_y)**2)\n",
    "print(src_check['diff'])\n",
    "src_check.to_csv('src_pos_for_distribution_2nd.csv', index=False)\n"
   ]
  },
  {
   "cell_type": "code",
   "execution_count": 48,
   "metadata": {},
   "outputs": [
    {
     "data": {
      "image/png": "[encoded data removed]",
      "text/plain": [
       "<Figure size 640x480 with 1 Axes>"
      ]
     },
     "metadata": {},
     "output_type": "display_data"
    }
   ],
   "source": [
    "# plot distribution of chi squared values from the csv file\n",
    "src = pd.read_csv('src_pos_for_distribution_2nd.csv')\n",
    "diff = src['diff'].values\n",
    "# Omit the chi squared values that is larger than 1\n",
    "diff = diff[diff < 1]\n",
    "\n",
    "plt.hist(diff, bins=10, rwidth=0.7)\n",
    "plt.xlabel(r'Distance between $\\theta_{true}$ and $\\theta_{opt}$(arcsec)')\n",
    "plt.ylabel('Frequency')\n",
    "plt.title('Distribution of distance between actual and optimized source position')\n",
    "#plt.figtext(0.5, -0.1, 'Figure 4: Distribution of difference in actual and optimized source position in arcsec.\\nMost of the optimized source positions have discrepancy smaller than $10^{-7}$ arcsec, which\\nindicates again the high accuracy of localization which is nearly pinpointing the source location. \\nNote that the one event with fail localization is opt out as the identification of clsuter also failed.', ha='center', fontsize = 8)\n",
    "plt.show()"
   ]
  }
 ],
 "metadata": {
  "kernelspec": {
   "display_name": "Python 3",
   "language": "python",
   "name": "python3"
  },
  "language_info": {
   "codemirror_mode": {
    "name": "ipython",
    "version": 3
   },
   "file_extension": ".py",
   "mimetype": "text/x-python",
   "name": "python",
   "nbconvert_exporter": "python",
   "pygments_lexer": "ipython3",
   "version": "3.10.12"
  }
 },
 "nbformat": 4,
 "nbformat_minor": 2
}
